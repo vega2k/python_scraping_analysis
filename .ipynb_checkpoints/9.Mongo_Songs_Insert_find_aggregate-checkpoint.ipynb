{
 "cells": [
  {
   "cell_type": "markdown",
   "metadata": {},
   "source": [
    "### Songs 정보를 저장하고 읽고 집계하기\n",
    "1. data/songs.json 읽어서 mongodb에 저장한다.\n",
    "2. mongodb에 연결해서 DB와 Collection을 생성한다\n",
    "3. find(), aggregate() 함수를 사용해서 읽고, 집계를 해본다."
   ]
  },
  {
   "cell_type": "code",
   "execution_count": 1,
   "metadata": {},
   "outputs": [
    {
     "name": "stdout",
     "output_type": "stream",
     "text": [
      "Name: pymongo\n",
      "Version: 3.11.0\n",
      "Summary: Python driver for MongoDB <http://www.mongodb.org>\n",
      "Home-page: http://github.com/mongodb/mongo-python-driver\n",
      "Author: Mike Dirolf\n",
      "Author-email: mongodb-user@googlegroups.com\n",
      "License: Apache License, Version 2.0\n",
      "Location: c:\\programdata\\anaconda3\\lib\\site-packages\n",
      "Requires: \n",
      "Required-by: \n"
     ]
    }
   ],
   "source": [
    "!pip show pymongo"
   ]
  },
  {
   "cell_type": "code",
   "execution_count": 6,
   "metadata": {},
   "outputs": [
    {
     "name": "stdout",
     "output_type": "stream",
     "text": [
      "<class 'list'> 100\n"
     ]
    }
   ],
   "source": [
    "import pymongo\n",
    "import json\n",
    "\n",
    "with open('data/songs.json','r',encoding='utf8') as file:\n",
    "    contents = file.read()\n",
    "    songs_json = json.loads(contents)\n",
    "\n",
    "print(type(songs_json), len(songs_json))    \n",
    "#songs_json[0:2]"
   ]
  },
  {
   "cell_type": "code",
   "execution_count": 3,
   "metadata": {},
   "outputs": [
    {
     "name": "stdout",
     "output_type": "stream",
     "text": [
      "Connection :  MongoClient(host=['localhost:27017'], document_class=dict, tz_aware=False, connect=True)\n",
      "Database :  Database(MongoClient(host=['localhost:27017'], document_class=dict, tz_aware=False, connect=True), 'song_db')\n",
      "DB Name :  song_db\n",
      "Collection :  Collection(Database(MongoClient(host=['localhost:27017'], document_class=dict, tz_aware=False, connect=True), 'song_db'), 'songs')\n",
      "Col Name :  songs\n"
     ]
    }
   ],
   "source": [
    "# 1. MongoDB와 연결\n",
    "con = pymongo.MongoClient(host='localhost',port=27017)\n",
    "print('Connection : ', con)\n",
    "#2. Database 생성\n",
    "db = con.song_db\n",
    "print('Database : ', db)\n",
    "print('DB Name : ', db.name)\n",
    "#3. Collection 생성\n",
    "col = db.songs\n",
    "print('Collection : ',col)\n",
    "print('Col Name : ', col.name)"
   ]
  },
  {
   "cell_type": "code",
   "execution_count": 7,
   "metadata": {},
   "outputs": [
    {
     "data": {
      "text/plain": [
       "100"
      ]
     },
     "execution_count": 7,
     "metadata": {},
     "output_type": "execute_result"
    }
   ],
   "source": [
    "#songs_json 데이터를 insert_many() 함수 사용해서 document를 등록하기\n",
    "col.insert_many(songs_json)\n",
    "\n",
    "#document 건수 확인\n",
    "col.count_documents({})"
   ]
  },
  {
   "cell_type": "code",
   "execution_count": 12,
   "metadata": {},
   "outputs": [
    {
     "name": "stdout",
     "output_type": "stream",
     "text": [
      "<class 'pymongo.cursor.Cursor'>\n",
      "환불원정대\n",
      "방탄소년단\n",
      "BLACKPINK\n",
      "산들\n",
      "Crush\n",
      "박진영\n",
      "임창정\n",
      "스탠딩 에그\n",
      "Jawsh 685\n",
      "제시 (Jessi)\n",
      "규현 (KYUHYUN)\n",
      "화사 (Hwa Sa)\n",
      "BLACKPINK\n",
      "아이유\n",
      "오마이걸 (OH MY GIRL)\n",
      "싹쓰리 (유두래곤, 린다G, 비룡)\n",
      "조정석\n",
      "이하이\n",
      "블루 (BLOO)\n",
      "오반\n",
      "마마무 (Mamamoo)\n",
      "노을\n",
      "Tones And I\n",
      "아이유\n",
      "AKMU (악동뮤지션)\n",
      "Maroon 5\n",
      "창모 (CHANGMO)\n",
      "방탄소년단\n",
      "전상근\n",
      "백지영\n",
      "장범준\n",
      "오마이걸 (OH MY GIRL)\n",
      "폴킴\n",
      "마크툽 (MAKTUB)\n",
      "전미도\n",
      "(여자)아이들\n",
      "Anne-Marie\n",
      "BLACKPINK\n",
      "신예영\n",
      "청하\n",
      "Crush\n",
      "순순희\n",
      "지코 (ZICO)\n",
      "ITZY (있지)\n",
      "Dua Lipa\n",
      "아이유\n",
      "로꼬\n",
      "엠씨더맥스 (M.C the MAX)\n",
      "방탄소년단\n",
      "먼데이 키즈 (Monday Kiz)\n",
      "폴킴\n",
      "선미\n",
      "지코 (ZICO)\n",
      "방탄소년단\n",
      "BLACKPINK\n",
      "바이브\n",
      "Etham\n",
      "가호 (Gaho)\n",
      "Conan Gray\n",
      "아이유\n",
      "임영웅\n",
      "아이유\n",
      "조이 (JOY)\n",
      "Red Velvet (레드벨벳)\n",
      "오반\n",
      "Lauv\n",
      "카더가든\n",
      "싹쓰리 (유두래곤, 린다G, 비룡)\n",
      "폴킴\n",
      "BLACKPINK\n",
      "황인욱\n",
      "김필\n",
      "Crush\n",
      "이수현\n",
      "마크툽 (MAKTUB)\n",
      "Billie Eilish\n",
      "규현 (KYUHYUN)\n",
      "볼빨간사춘기\n",
      "김준수\n",
      "Ruel\n",
      "HYNN (박혜원)\n",
      "비룡\n",
      "송하예\n",
      "Crush\n",
      "Ariana Grande\n",
      "진민호\n",
      "백현 (BAEKHYUN)\n",
      "임창정\n",
      "헤이즈 (Heize)\n",
      "Crush\n",
      "전상근\n",
      "신용재 (2F)\n",
      "방탄소년단\n",
      "정은지\n",
      "TWICE (트와이스)\n",
      "마마무 (Mamamoo)\n",
      "유아 (오마이걸)\n",
      "Sam Smith\n",
      "싹쓰리 (유두래곤, 린다G, 비룡)\n",
      "청하\n"
     ]
    }
   ],
   "source": [
    "#find() 함수 사용해서 document 읽기\n",
    "print(type(col.find({})))\n",
    "for doc in col.find({}):\n",
    "    #print(type(doc))\n",
    "    print(doc['가수'])"
   ]
  },
  {
   "cell_type": "code",
   "execution_count": 16,
   "metadata": {},
   "outputs": [
    {
     "name": "stdout",
     "output_type": "stream",
     "text": [
      "{'가수': '환불원정대', '발매일': '2020.10.10', '장르': '댄스'}\n",
      "{'가수': '방탄소년단', '발매일': '2020.08.24', '장르': '댄스'}\n",
      "{'가수': 'BLACKPINK', '발매일': '2020.10.02', '장르': '댄스'}\n",
      "{'가수': '박진영', '발매일': '2020.08.12', '장르': '댄스'}\n",
      "{'가수': '화사 (Hwa Sa)', '발매일': '2020.06.29', '장르': '댄스'}\n",
      "{'가수': '오마이걸 (OH MY GIRL)', '발매일': '2020.04.27', '장르': '댄스'}\n",
      "{'가수': '싹쓰리 (유두래곤, 린다G, 비룡)', '발매일': '2020.07.18', '장르': '댄스'}\n",
      "{'가수': '마마무 (Mamamoo)', '발매일': '2020.10.20', '장르': '댄스'}\n",
      "{'가수': '방탄소년단', '발매일': '2019.04.12', '장르': '댄스'}\n",
      "{'가수': '오마이걸 (OH MY GIRL)', '발매일': '2020.04.27', '장르': '댄스'}\n",
      "{'가수': '(여자)아이들', '발매일': '2020.08.03', '장르': '댄스'}\n",
      "{'가수': 'BLACKPINK', '발매일': '2020.08.28', '장르': '댄스'}\n",
      "{'가수': 'ITZY (있지)', '발매일': '2020.08.17', '장르': '댄스'}\n",
      "{'가수': '선미', '발매일': '2020.06.29', '장르': '댄스'}\n",
      "{'가수': '아이유', '발매일': '2020.06.19', '장르': '댄스'}\n",
      "{'가수': 'Red Velvet (레드벨벳)', '발매일': '2019.12.23', '장르': '댄스'}\n",
      "{'가수': '싹쓰리 (유두래곤, 린다G, 비룡)', '발매일': '2020.07.25', '장르': '댄스'}\n",
      "{'가수': 'BLACKPINK', '발매일': '2020.10.02', '장르': '댄스'}\n",
      "{'가수': '이수현', '발매일': '2020.10.16', '장르': '댄스'}\n",
      "{'가수': '비룡', '발매일': '2020.08.01', '장르': '댄스'}\n",
      "{'가수': 'TWICE (트와이스)', '발매일': '2020.06.01', '장르': '댄스'}\n",
      "{'가수': '마마무 (Mamamoo)', '발매일': '2019.11.14', '장르': '댄스'}\n",
      "{'가수': '유아 (오마이걸)', '발매일': '2020.09.07', '장르': '댄스'}\n",
      "{'가수': '싹쓰리 (유두래곤, 린다G, 비룡)', '발매일': '2020.07.11', '장르': '댄스'}\n",
      "{'가수': '청하', '발매일': '2020.07.06', '장르': '댄스'}\n"
     ]
    }
   ],
   "source": [
    "#장르가 댄스인 노래의 가수,장르,발매일, _id는 빼고 가져오기\n",
    "for song in col.find({'장르':'댄스'},{'_id':0,'가수':1,'장르':1,'발매일':1}):\n",
    "    print(song)"
   ]
  },
  {
   "cell_type": "code",
   "execution_count": null,
   "metadata": {},
   "outputs": [],
   "source": []
  }
 ],
 "metadata": {
  "kernelspec": {
   "display_name": "Python 3",
   "language": "python",
   "name": "python3"
  },
  "language_info": {
   "codemirror_mode": {
    "name": "ipython",
    "version": 3
   },
   "file_extension": ".py",
   "mimetype": "text/x-python",
   "name": "python",
   "nbconvert_exporter": "python",
   "pygments_lexer": "ipython3",
   "version": "3.8.3"
  }
 },
 "nbformat": 4,
 "nbformat_minor": 4
}
