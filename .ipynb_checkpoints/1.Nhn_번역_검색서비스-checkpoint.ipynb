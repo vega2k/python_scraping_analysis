{
 "cells": [
  {
   "cell_type": "markdown",
   "metadata": {},
   "source": [
    "### 네이버 Papago 서비스 사용\n",
    "* 파이썬 기본 urllib 라이브러리 사용"
   ]
  },
  {
   "cell_type": "code",
   "execution_count": 2,
   "metadata": {},
   "outputs": [
    {
     "name": "stdout",
     "output_type": "stream",
     "text": [
      "{\"message\":{\"@type\":\"response\",\"@service\":\"naverservice.nmt.proxy\",\"@version\":\"1.0.0\",\"result\":{\"srcLangType\":\"en\",\"tarLangType\":\"ko\",\"translatedText\":\"어제 나의 모든 고민들은 너무나 멀리 떨어져 있는 것 같았다.\",\"engineType\":\"N2MT\",\"pivot\":null}}}\n"
     ]
    }
   ],
   "source": [
    "# 네이버 Papago NMT API 예제\n",
    "import os\n",
    "import sys\n",
    "import urllib.request\n",
    "\n",
    "client_id = \"mJAaMfhD3hNaYk6MgyV2\"\n",
    "client_secret = \"Gt4J1hqbYU\"\n",
    "encText = urllib.parse.quote(\"Yesterday all my troubles seemed so far away.\")\n",
    "data = \"source=en&target=ko&text=\" + encText\n",
    "url = \"https://openapi.naver.com/v1/papago/n2mt\"\n",
    "request = urllib.request.Request(url)\n",
    "request.add_header(\"X-Naver-Client-Id\",client_id)\n",
    "request.add_header(\"X-Naver-Client-Secret\",client_secret)\n",
    "response = urllib.request.urlopen(request, data=data.encode(\"utf-8\"))\n",
    "rescode = response.getcode()\n",
    "if(rescode==200):\n",
    "    response_body = response.read()\n",
    "    print(response_body.decode('utf-8'))\n",
    "else:\n",
    "    print(\"Error Code:\" + rescode)"
   ]
  },
  {
   "cell_type": "markdown",
   "metadata": {},
   "source": [
    "* requests 라이브러리를 사용"
   ]
  },
  {
   "cell_type": "code",
   "execution_count": 3,
   "metadata": {},
   "outputs": [
    {
     "name": "stdout",
     "output_type": "stream",
     "text": [
      "<class 'requests.models.Response'>\n",
      "200 True\n",
      "응답헤더 {'Server': 'nginx', 'Date': 'Fri, 16 Oct 2020 01:03:42 GMT', 'Content-Type': 'application/json; charset=UTF-8', 'Content-Length': '221', 'Connection': 'keep-alive', 'Keep-Alive': 'timeout=5', 'X-QUOTA': '45', 'Content-Encoding': 'gzip'}\n",
      "요청헤더 {'User-Agent': 'python-requests/2.24.0', 'Accept-Encoding': 'gzip, deflate', 'Accept': '*/*', 'Connection': 'keep-alive', 'X-Naver-Client-Id': 'mJAaMfhD3hNaYk6MgyV2', 'X-Naver-Client-Secret': 'Gt4J1hqbYU', 'Content-Length': '73', 'Content-Type': 'application/x-www-form-urlencoded'}\n"
     ]
    }
   ],
   "source": [
    "import requests\n",
    "\n",
    "client_id = \"mJAaMfhD3hNaYk6MgyV2\"\n",
    "client_secret = \"Gt4J1hqbYU\"\n",
    "enc_text = \"Yesterday all my troubles seemed so far away.\"\n",
    "url = \"https://openapi.naver.com/v1/papago/n2mt\"\n",
    "\n",
    "#request header 값 선언\n",
    "req_header = {\n",
    "    \"X-Naver-Client-Id\":client_id,\n",
    "    \"X-Naver-Client-Secret\":client_secret\n",
    "}\n",
    "#request form data 값 선언\n",
    "req_data = {\n",
    "    \"source\":\"en\",\n",
    "    \"target\":\"zh-CN\",\n",
    "    \"text\":enc_text\n",
    "}\n",
    "\n",
    "#request 보내기 ,post() 함수 호출\n",
    "res = requests.post(url, data=req_data, headers=req_header)\n",
    "print(type(res))\n",
    "print(res.status_code, res.ok)\n",
    "print('응답헤더',res.headers)\n",
    "print('요청헤더',res.request.headers)\n"
   ]
  },
  {
   "cell_type": "code",
   "execution_count": 4,
   "metadata": {},
   "outputs": [
    {
     "name": "stdout",
     "output_type": "stream",
     "text": [
      "<class 'str'>\n",
      "응답 Text  {\"message\":{\"@type\":\"response\",\"@service\":\"naverservice.nmt.proxy\",\"@version\":\"1.0.0\",\"result\":{\"srcLangType\":\"en\",\"tarLangType\":\"zh-CN\",\"translatedText\":\"昨天,我所有的烦恼似乎都离我太远了。\",\"engineType\":\"N2MT\",\"pivot\":null}}}\n"
     ]
    }
   ],
   "source": [
    "if res.ok:\n",
    "    print(type(res.text))\n",
    "    print('응답 Text ', res.text)\n",
    "else:\n",
    "    print('Status Code :', res.status_code)"
   ]
  },
  {
   "cell_type": "code",
   "execution_count": 5,
   "metadata": {},
   "outputs": [
    {
     "name": "stdout",
     "output_type": "stream",
     "text": [
      "<class 'dict'>\n",
      "{'message': {'@type': 'response', '@service': 'naverservice.nmt.proxy', '@version': '1.0.0', 'result': {'srcLangType': 'en', 'tarLangType': 'zh-CN', 'translatedText': '昨天,我所有的烦恼似乎都离我太远了。', 'engineType': 'N2MT', 'pivot': None}}}\n"
     ]
    }
   ],
   "source": [
    "if res.ok:\n",
    "    result_json = res.json()\n",
    "    print(type(result_json))\n",
    "    print(result_json)"
   ]
  },
  {
   "cell_type": "code",
   "execution_count": 6,
   "metadata": {},
   "outputs": [
    {
     "name": "stdout",
     "output_type": "stream",
     "text": [
      "昨天,我所有的烦恼似乎都离我太远了。\n"
     ]
    }
   ],
   "source": [
    "print(result_json['message']['result']['translatedText'])"
   ]
  },
  {
   "cell_type": "markdown",
   "metadata": {},
   "source": [
    "### 네이버 검색 서비스\n",
    "* urllib 사용"
   ]
  },
  {
   "cell_type": "code",
   "execution_count": 7,
   "metadata": {},
   "outputs": [],
   "source": [
    "import os\n",
    "import sys\n",
    "import urllib.request\n",
    "\n",
    "client_id = \"mJAaMfhD3hNaYk6MgyV2\"\n",
    "client_secret = \"Gt4J1hqbYU\"\n",
    "\n",
    "encText = urllib.parse.quote(\"파이썬\")\n",
    "url = \"https://openapi.naver.com/v1/search/blog?query=\" + encText # json 결과\n",
    "# url = \"https://openapi.naver.com/v1/search/blog.xml?query=\" + encText # xml 결과\n",
    "request = urllib.request.Request(url)\n",
    "request.add_header(\"X-Naver-Client-Id\",client_id)\n",
    "request.add_header(\"X-Naver-Client-Secret\",client_secret)\n",
    "response = urllib.request.urlopen(request)\n",
    "rescode = response.getcode()\n",
    "if(rescode==200):\n",
    "    response_body = response.read()\n",
    "    #print(response_body.decode('utf-8'))\n",
    "else:\n",
    "    print(\"Error Code:\" + rescode)"
   ]
  },
  {
   "cell_type": "markdown",
   "metadata": {},
   "source": [
    "* 검색 서비스를 requests 사용하는 것으로 변경"
   ]
  },
  {
   "cell_type": "code",
   "execution_count": 8,
   "metadata": {},
   "outputs": [
    {
     "name": "stdout",
     "output_type": "stream",
     "text": [
      "200 True\n",
      "{\n",
      "\"lastBuildDate\": \"Fri, 16 Oct 2020 10:03:42 +0900\",\n",
      "\"total\": 177094,\n",
      "\"start\": 1,\n",
      "\"display\": 10,\n",
      "\"items\": [\n",
      "{\n",
      "\"title\": \"<b>파이썬</b> 학원 완벽한 선정절차!\",\n",
      "\"link\": \"https:\\/\\/blog.naver.com\\/km_y?Redirect=Log&logNo=222116783166\",\n",
      "\"description\": \"독학은 어림도 없었고, 저와 같이 평소부터 컴퓨터를 잘 다루는 편이 아닌 입문자들이 가장 많이 시작하고 찾는다는 <b>파이썬</b> 학원으로 발걸음을 향했어요. 알아보니 <b>파이썬</b> 학원은 굉장히 많더라구요. 선택지가... \",\n",
      "\"bloggername\": \"김과장 블로그\",\n",
      "\"bloggerlink\": \"https://blog.naver.com/km_y\",\n",
      "\"postdate\": \"20201015\"\n",
      "\n",
      "},\n",
      "{\n",
      "\"title\": \"<b>파이썬</b>(Phython)이 스타트업에게 인기있는 이유 7가지\",\n",
      "\"link\": \"http://blog.wishket.com/%ED%8C%8C%EC%9D%B4%EC%8D%ACpython%EC%9D%B4-%EC%8A%A4%ED%83%80%ED%8A%B8%EC%97%85%EC%97%90%EA%B2%8C-%EC%9D%B8%EA%B8%B0%EC%9E%88%EB%8A%94-%EC%9D%B4%EC%9C%A0-7%EA%B0%80%EC%A7%80/\",\n",
      "\"description\": \"<b>파이썬</b>(Python)이 스타트업에게 인기있는 이유 7가지 Facebook Twitter 안녕하세요. 위시켓입니다.... 그렇기 때문에 <b>파이썬</b>(Python)과 같은 강력하면서도 기반이 튼튼한 기술을 사용하는 것이 가장 좋습니다.... \",\n",
      "\"bloggername\": \"프리랜서 가이드 – Wishket\",\n",
      "\"bloggerlink\": \"http://blog.wishket.com/\",\n",
      "\"postdate\": \"20200831\"\n",
      "\n",
      "},\n",
      "{\n",
      "\"title\": \"<b>파이썬</b> 학원 확연히 다른 스킬 강좌!\",\n",
      "\"link\": \"https:\\/\\/blog.naver.com\\/hmiya00?Redirect=Log&logNo=222114719683\",\n",
      "\"description\": \"오늘은 <b>파이썬</b> 학원을 소개해 드릴까 합니다. 저는 어렸을 때부터 기계나 컴퓨터에 관심이 많았어요.... 다행히 제가 다녔던 <b>파이썬</b> 학원은 국비 지원을 통해 금전적인 부담을 조금 덜고 수업을 들을 수 있어서... \",\n",
      "\"bloggername\": \"한시라도 빨리 떠나시게\",\n",
      "\"bloggerlink\": \"https://blog.naver.com/hmiya00\",\n",
      "\"postdate\": \"20201013\"\n",
      "\n",
      "},\n",
      "{\n",
      "\"title\": \"<b>파이썬</b> 학원 비교와 선택의 기준!\",\n",
      "\"link\": \"https:\\/\\/blog.naver.com\\/likedelma?Redirect=Log&logNo=222043548217\",\n",
      "\"description\": \"이미 기본 사무 업무에 종사를 하는 직장인, 이직을 목적으로 퇴사를 결정한 분들이 <b>파이썬</b> 학원에... 기본적으로 <b>파이썬</b> 학원에 다니게 되면 가장 베이직한 과정으로 한 달간 수료를 할 수 있는데, 프로그래밍에... \",\n",
      "\"bloggername\": \"보리의 공부일지\",\n",
      "\"bloggerlink\": \"https://blog.naver.com/likedelma\",\n",
      "\"postdate\": \"20200728\"\n",
      "\n",
      "},\n",
      "{\n",
      "\"title\": \"[P056] <b>파이썬</b>의 정형화된 출력형식(Formatted Output... \",\n",
      "\"link\": \"https:\\/\\/blog.naver.com\\/choi_s_h?Redirect=Log&logNo=222103125184\",\n",
      "\"description\": \"<b>파이썬</b>의 형식지정자(숫자를 출력할 때의 자릿수)에 대해서는, [P008] https://blog.naver.com/choi_s_h/221259316543에서 간략하게 맛을 보았지만 <b>파이썬</b>에는 출력형식을 지정하는 많은 방법들이 있고, 이번... \",\n",
      "\"bloggername\": \"Common Sense, Science & Engineering\",\n",
      "\"bloggerlink\": \"https://blog.naver.com/choi_s_h\",\n",
      "\"postdate\": \"20200929\"\n",
      "\n",
      "},\n",
      "{\n",
      "\"title\": \"강남<b>파이썬</b>학원 입문이 어렵다고요?\",\n",
      "\"link\": \"https:\\/\\/blog.naver.com\\/kimbg20?Redirect=Log&logNo=222115621942\",\n",
      "\"description\": \"최근 기사에 따르면 프로그래밍 언어 순위에서 <b>파이썬</b>이 자바를 이기고 있다는 이야기가 나오고 있습니다 이 말은 즉 <b>파이썬</b>이 빠르게 성장하고 있고 많은 기업에서 이 언어를 사용하고 있다는 뜻이죠 자바는... \",\n",
      "\"bloggername\": \"아름다운 세상아 같이 빨려들자~~\",\n",
      "\"bloggerlink\": \"https://blog.naver.com/kimbg20\",\n",
      "\"postdate\": \"20201014\"\n",
      "\n",
      "},\n",
      "{\n",
      "\"title\": \"<b>파이썬</b>과 함께 한 지난 4주간 학습 내용 정리\",\n",
      "\"link\": \"https:\\/\\/blog.naver.com\\/annerheekim?Redirect=Log&logNo=222073420438\",\n",
      "\"description\": \"소논문을 제출한 다음 날인 7월 28일, <b>파이썬</b>을 설치하느라 고전하는 것으로 <b>파이썬</b>과의 인연이 시작되었고요. 8월 1일에 경사대 특강을 마친 후 8월 2일에 아나콘다와 주피터 노트북을 깔고 본격적인 공부를... \",\n",
      "\"bloggername\": \"길벗(Gilbert)의 앤(Anne) @ Wuxi & Shanghai\",\n",
      "\"bloggerlink\": \"https://blog.naver.com/annerheekim\",\n",
      "\"postdate\": \"20200828\"\n",
      "\n",
      "},\n",
      "{\n",
      "\"title\": \"<b>파이썬</b> 학원 더 늦기 전에 도전!\",\n",
      "\"link\": \"https:\\/\\/blog.naver.com\\/jcy0207?Redirect=Log&logNo=222038541815\",\n",
      "\"description\": \"그래서 <b>파이썬</b> 학원을 찾는 분들이 늘어가도 있습니다. 특히나 이전에 컴퓨터 쪽에서 공부를 하신... 다른 <b>파이썬</b> 학원에 찾아가 본다고 하더라도 이 곳 이상으로 좋은 환경인 곳을 찾기는 어려울 거라... \",\n",
      "\"bloggername\": \"모아의 교육정보 모아모아\",\n",
      "\"bloggerlink\": \"https://blog.naver.com/jcy0207\",\n",
      "\"postdate\": \"20200722\"\n",
      "\n",
      "},\n",
      "{\n",
      "\"title\": \"자바 <b>파이썬</b> 입문 언어 승자는?\",\n",
      "\"link\": \"https:\\/\\/blog.naver.com\\/skh556?Redirect=Log&logNo=222038807263\",\n",
      "\"description\": \"그중에서도 우선순위 1순위, 2순위를 다투는 자바 <b>파이썬</b> 비교 분석을 하는 포스팅을 하려고 합니다.... 다음은 최근 새롭게 뜨고 있는 <b>파이썬</b>에 대해서 알아볼까요? &lt; 출처 : <b>파이썬</b> 홈페이지 &gt; <b>파 이 썬</b> <b>파이썬</b>은... \",\n",
      "\"bloggername\": \"우렁찬한우의 힘찬 블로그\",\n",
      "\"bloggerlink\": \"https://blog.naver.com/skh556\",\n",
      "\"postdate\": \"20200723\"\n",
      "\n",
      "},\n",
      "{\n",
      "\"title\": \"<b>파이썬</b>학원 차근차근 커리어를 쌓아요!\",\n",
      "\"link\": \"https:\\/\\/blog.naver.com\\/jiyun4846?Redirect=Log&logNo=222116343153\",\n",
      "\"description\": \"그래서 <b>파이썬</b>학원을 알아보기 시작했어요. 이것저것 따져보며 꼼꼼하게 체크했는데 그중... <b>파이썬</b> 학원을 알아볼 때 가장 중요하게 생각하는 것 중 하나가 바로 아카데미에서 배운 것이 실무에 도움이... \",\n",
      "\"bloggername\": \"HI,GRAY [ : 하이,그레이 ] nail & candle\",\n",
      "\"bloggerlink\": \"https://blog.naver.com/jiyun4846\",\n",
      "\"postdate\": \"20201015\"\n",
      "\n",
      "}\n",
      "]\n",
      "}\n",
      "\n"
     ]
    }
   ],
   "source": [
    "import requests\n",
    "\n",
    "keyword = \"파이썬\"\n",
    "\n",
    "client_id = \"mJAaMfhD3hNaYk6MgyV2\"\n",
    "client_secret = \"Gt4J1hqbYU\"\n",
    "\n",
    "url = \"https://openapi.naver.com/v1/search/blog\"\n",
    "\n",
    "req_header = {\n",
    "    \"X-Naver-Client-Id\":client_id,\n",
    "    \"X-Naver-Client-Secret\":client_secret\n",
    "}\n",
    "\n",
    "req_data = {\n",
    "    \"query\":keyword\n",
    "}\n",
    "\n",
    "res = requests.get(url, params=req_data, headers=req_header)\n",
    "print(res.status_code, res.ok)\n",
    "print(res.text)"
   ]
  },
  {
   "cell_type": "code",
   "execution_count": 9,
   "metadata": {},
   "outputs": [],
   "source": [
    "def search_service(kind,keyword,display_count):\n",
    "    import requests\n",
    "\n",
    "    client_id = \"mJAaMfhD3hNaYk6MgyV2\"\n",
    "    client_secret = \"Gt4J1hqbYU\"\n",
    "\n",
    "    url = f\"https://openapi.naver.com/v1/search/{kind}.json\"\n",
    "\n",
    "    req_header = {\n",
    "        \"X-Naver-Client-Id\":client_id,\n",
    "        \"X-Naver-Client-Secret\":client_secret\n",
    "    }\n",
    "\n",
    "    req_data = {\n",
    "        \"query\":keyword,\n",
    "        \"display\":display_count\n",
    "    }\n",
    "\n",
    "    res = requests.get(url, params=req_data, headers=req_header)\n",
    "    #print(res.status_code, res.ok)\n",
    "    #print(res.text)\n",
    "    json_data = res.json()\n",
    "    #print(type(json_data['items']))\n",
    "    item_list = json_data['items']\n",
    "    #print(len(item_list))\n",
    "    \n",
    "    result_list = []\n",
    "    for item in item_list:\n",
    "        #print(type(item))\n",
    "        #print(item)\n",
    "        result_list.append(item)\n",
    "    return result_list\n",
    "\n",
    "#search_service(\"자바\",2)    "
   ]
  },
  {
   "cell_type": "code",
   "execution_count": 10,
   "metadata": {},
   "outputs": [
    {
     "name": "stdout",
     "output_type": "stream",
     "text": [
      "[{'title': '이것이 취업을 위한 코딩 테스트다 with <b>파이썬</b> (취업과 이직을 결정하는 알고리즘 인터뷰 완벽 가이드, C/C++, 자바 코드 제공)', 'link': 'http://book.naver.com/bookdb/book_detail.php?bid=16439154', 'image': 'https://bookthumb-phinf.pstatic.net/cover/164/391/16439154.jpg?type=m1&udate=20200928', 'author': '나동빈', 'price': '34000', 'discount': '30600', 'publisher': '한빛미디어', 'pubdate': '20200805', 'isbn': '1162243074 9791162243077', 'description': '8가지 핵심 알고리즘 이론을 쉽게 설명하고, 관련 실전 문제를 풀이했다. 출제 유형 분석, 이론 설명, 기출문제 풀이까지! 어떤 코딩 테스트도 이 책 한 권으로 대비할 수 있을 것이다. 코딩 테스트에서 주로 선택하는 <b>파이썬</b>을 기반으로 설명되어 있으며, <b>파이썬</b> 코드 외에도 C/C++, 자바 코드를 추가로 제공한다.'}, {'title': '<b>파이썬</b> 알고리즘 인터뷰 (95가지 알고리즘 문제 풀이로 완성하는 코딩 테스트)', 'link': 'http://book.naver.com/bookdb/book_detail.php?bid=16406247', 'image': 'https://bookthumb-phinf.pstatic.net/cover/164/062/16406247.jpg?type=m1&udate=20200915', 'author': '박상길', 'price': '38000', 'discount': '34200', 'publisher': '책만', 'pubdate': '20200715', 'isbn': '1189909170 9791189909178', 'description': '물론, <b>파이썬</b>으로 구현하는 코드 풀이를 통해 성능 최적화 기법, <b>파이썬</b>의 핵심 문법과 다양한 실용 테크닉까지 배울 수 있는, 초보 개발자와 숙련 개발자... 이 책은 현업과 실무에 유용한 주요 알고리즘 이론을 깊숙이 이해하고, <b>파이썬</b>의 핵심 기능과 문법까지 상세하게 이해할 수 있는 취업용 코딩 테스트를... '}, {'title': '혼자 공부하는 <b>파이썬</b> (<b>파이썬</b> 최신 버전 반영)', 'link': 'http://book.naver.com/bookdb/book_detail.php?bid=15028688', 'image': 'https://bookthumb-phinf.pstatic.net/cover/150/286/15028688.jpg?type=m1&udate=20200915', 'author': '윤인성', 'price': '18000', 'discount': '16200', 'publisher': '한빛미디어', 'pubdate': '20190610', 'isbn': '1162241888 9791162241882', 'description': '1:1 과외하듯 배우는 <b>파이썬</b> 프로그래밍 자습서(<b>파이썬</b> 최신 버전 반영)\\n이 책은 독학으로 프로그래밍 언어를 처음 배우려는 입문자가, 혹은 <b>파이썬</b>을 배우려는 입문자가 ‘꼭 필요한 내용을 제대로’ 학습할 수 있도록 구성했다. ‘무엇을’, ‘어떻게’ 학습해야 할지조차 모르는 입문자의 막연한 마음을 살펴... '}]\n"
     ]
    }
   ],
   "source": [
    "my_list = search_service(\"book\",\"파이썬\",3)\n",
    "print(my_list)"
   ]
  },
  {
   "cell_type": "code",
   "execution_count": 11,
   "metadata": {},
   "outputs": [
    {
     "name": "stdout",
     "output_type": "stream",
     "text": [
      "{'title': '핸즈온 <b>머신러닝</b>(2판) (사이킷런, 케라스, 텐서플로 2를 활용한 <b>머신러닝</b>, 딥러닝 완벽 실무)', 'link': 'http://book.naver.com/bookdb/book_detail.php?bid=16328592', 'image': 'https://bookthumb-phinf.pstatic.net/cover/163/285/16328592.jpg?type=m1&udate=20201005', 'author': '오렐리앙 제롱', 'price': '55000', 'discount': '49500', 'publisher': '한빛미디어', 'pubdate': '20200504', 'isbn': '1162242965 9791162242964', 'description': '컬러판으로 돌아온 아마존 인공지능 분야 부동의 1위 도서\\n이 책은 지능형 시스템을 구축하려면 반드시 알아야 할 <b>머신러닝</b>, 딥러닝 분야 핵심 개념과 이론을 이해하기 쉽게 설명한다. 사이킷런, 케라스, 텐서플로를 이용해 실전에서 바로 활용 가능한 예제로 모델을 훈련하고 신경망을 구축하는 방법을... '}\n",
      "{'title': '파이썬 <b>머신러닝</b> 완벽 가이드 (다양한 캐글 예제와 함께 기초 알고리즘부터 최신 기법까지 배우는)', 'link': 'http://book.naver.com/bookdb/book_detail.php?bid=16238302', 'image': 'https://bookthumb-phinf.pstatic.net/cover/162/383/16238302.jpg?type=m1&udate=20200423', 'author': '권철민', 'price': '38000', 'discount': '34200', 'publisher': '위키북스', 'pubdate': '20200207', 'isbn': '1158391927 9791158391928', 'description': '자세한 이론 설명과 파이썬 실습을 통해 <b>머신러닝</b>을 완벽하게 배울 수 있습니다!《파이썬 <b>머신러닝</b> 완벽 가이드》는 이론 위주의 <b>머신러닝</b> 책에서 탈피해 다양한 실전 예제를 직접 구현해 보면서 <b>머신러닝</b>을 체득할 수 있도록 만들었습니다.  캐글과 UCI <b>머신러닝</b> 리포지토리에서 난이도가 있는 실습... '}\n",
      "{'title': '<b>머신 러닝</b> 교과서 with 파이썬, 사이킷런, 텐서플로', 'link': 'http://book.naver.com/bookdb/book_detail.php?bid=14922892', 'image': 'https://bookthumb-phinf.pstatic.net/cover/149/228/14922892.jpg?type=m1&udate=20200423', 'author': '세바스찬 라시카|바히드 미자리리', 'price': '33000', 'discount': '29700', 'publisher': '길벗', 'pubdate': '20190524', 'isbn': '1160507961 9791160507966', 'description': '아마존 <b>머신 러닝</b> 분야 베스트셀러!\\n기본기에 충실한 <b>머신 러닝</b> 입문서코드 실행만으로는 <b>머신 러닝</b>을 충분히 이해할 수 없다. <b>머신 러닝</b>을 제대로 이해하고 싶다면 코드 외에도 <b>머신 러닝</b> 이론과 <b>머신 러닝</b> 알고리즘의 뒤편에 있는 수학 개념을 알아야 한다. 이 책은 이해를 돕는 개념 설명, <b>머신 러닝</b>... '}\n"
     ]
    }
   ],
   "source": [
    "result_list = search_service('book','머신러닝',3)\n",
    "for result in result_list:\n",
    "    print(result)"
   ]
  },
  {
   "cell_type": "code",
   "execution_count": 15,
   "metadata": {},
   "outputs": [
    {
     "name": "stdout",
     "output_type": "stream",
     "text": [
      ">>> 분야 : blog\n",
      ">>> 분야 : book\n",
      ">>> 분야 : news\n"
     ]
    }
   ],
   "source": [
    "kind_list = ['blog','book','news']\n",
    "for kind in kind_list:\n",
    "    print(f'>>> 분야 : {kind}')\n",
    "    for item in search_service(kind,'딥러닝',2):\n",
    "        pass\n",
    "        #print(item)"
   ]
  },
  {
   "cell_type": "markdown",
   "metadata": {},
   "source": [
    "### Papago 서비스 사용\n",
    "* yesterday.txt 가사 파일의 내용을 읽어서 list에 저장\n",
    "* list에 있는 내용을 번역 서비스 요청\n",
    "* 서비스 응답 결과를 다시 파일에 쓰기"
   ]
  },
  {
   "cell_type": "code",
   "execution_count": 37,
   "metadata": {},
   "outputs": [
    {
     "name": "stdout",
     "output_type": "stream",
     "text": [
      "23\n",
      "17\n",
      ">> 번역시작\n",
      "Yesterday all my troubles seemed so far away.\n",
      "어제 나의 모든 고민들은 너무나 멀리 떨어져 있는 것 같았다.\n",
      "Now it looks as though they're here to stay.\n",
      "이제 그들은 여기 머물기 위해 온 것처럼 보인다.\n",
      "Oh, I believe in yesterday.\n",
      "오, 나는 어제를 다시 그리게 돼.\n",
      "Suddenly I'm not half the man I used to be.\n",
      "갑자기 나는 예전과 같은 사람이 아니다.\n",
      "There's a shadow hanging over me.\n",
      "내 위에 그림자가 드리워져 있다.\n",
      "Oh, yesterday came suddenly.\n",
      "아, 어제 갑자기 왔구나.\n",
      "Why she had to go, I don't know, she wouldn't say.\n",
      "왜 그녀가 가야만 했는지 모르겠다, 그녀는 말하지 않을 것이다.\n",
      "I said something wrong, now I long for yesterday.\n",
      "내가 말을 잘못해서 어제가 그립다.\n",
      "Yesterday love was such an easy game to play.\n",
      "어제는 사랑이 정말 쉬운 게임이었다.\n",
      "Now I need a place to hide away.\n",
      "이제 나는 숨을 곳이 필요해.\n",
      "Oh, I believe in yesterday.\n",
      "오, 나는 어제를 다시 그리게 돼.\n",
      "Why she had to go, I don't know, she wouldn't say.\n",
      "왜 그녀가 가야만 했는지 모르겠다, 그녀는 말하지 않을 것이다.\n",
      "I said something wrong, now I long for yesterday.\n",
      "내가 말을 잘못해서 어제가 그립다.\n",
      "Yesterday love was such an easy game to play.\n",
      "어제는 사랑이 정말 쉬운 게임이었다.\n",
      "Now I need a place to hide away.\n",
      "이제 나는 숨을 곳이 필요해.\n",
      "Oh, I believe in yesterday.\n",
      "오, 나는 어제를 다시 그리게 돼.\n",
      "Mm mm mm mm mm mm mm\n",
      "mm mm mm mm mm mm mm mm\n",
      ">> 번역 종료\n"
     ]
    }
   ],
   "source": [
    "import requests\n",
    "\n",
    "def translyric_savefile(trans_list):\n",
    "    with open('data/yesterday_trans.txt','w',encoding='utf8') as file:\n",
    "        file.writelines(trans_list)\n",
    "\n",
    "#yesterday.txt 가사 파일의 내용을 읽어서 list에 저장\n",
    "def gettext_savelist():\n",
    "    lyric_list = []\n",
    "    with open('data/yesterday.txt','r',encoding='utf8') as file:\n",
    "        contents = file.read()\n",
    "        lyric_list = contents.split('\\n')\n",
    "    return lyric_list\n",
    "    \n",
    "def main():\n",
    "    client_id = \"MwGmQBQTp6gi0db6RGaT\"\n",
    "    client_secret = \"BgBp7CUdWB\"\n",
    "    \n",
    "    url = \"https://openapi.naver.com/v1/papago/n2mt\"\n",
    "\n",
    "    #request header 값 선언\n",
    "    req_header = {\n",
    "        \"X-Naver-Client-Id\":client_id,\n",
    "        \"X-Naver-Client-Secret\":client_secret\n",
    "    }\n",
    "    #yesterday.txt 가사 파일의 내용을 읽어서 list에 저장\n",
    "    lyric_list = gettext_savelist()\n",
    "    print(len(lyric_list))\n",
    "    lyric_list = [lyric for lyric in lyric_list if len(lyric) != 0]    \n",
    "    print(len(lyric_list))\n",
    "    \n",
    "    trans_list = []\n",
    "    print('>> 번역시작')\n",
    "    for req_lyric in lyric_list:\n",
    "        print(req_lyric)\n",
    "        #request form data 값 선언\n",
    "        req_data = {\n",
    "            \"source\":\"en\",\n",
    "            \"target\":\"ko\",\n",
    "            \"text\":req_lyric\n",
    "        }\n",
    "        #papago 서비스 요청, post() 함수 호출\n",
    "        res = requests.post(url, data=req_data, headers=req_header)\n",
    "        \n",
    "        try:\n",
    "            trans_lyric = res.json()['message']['result']['translatedText']\n",
    "        except Exception as exp:\n",
    "            print(res.status_code)\n",
    "        else:\n",
    "            print(trans_lyric)\n",
    "        \n",
    "        trans_list.append(req_lyric+'\\n')\n",
    "        trans_list.append(trans_lyric+'\\n')\n",
    "        \n",
    "    translyric_savefile(trans_list)\n",
    "    print('>> 번역 종료')\n",
    "    \n",
    "main()"
   ]
  },
  {
   "cell_type": "code",
   "execution_count": 38,
   "metadata": {},
   "outputs": [
    {
     "name": "stdout",
     "output_type": "stream",
     "text": [
      "24\n",
      "24\n",
      ">> 번역시작\n",
      "뻔히 봐놓고 답장은 안 해\n",
      "뻔히 봐놓고 답장은 안 해\n",
      "얼마나 바쁘시길래\n",
      "마마나 시슈라\n",
      "끝나고 뭐해 얼굴 좀 볼까\n",
      "끝나 고 뭐해 볼까 볼까\n",
      "오늘 우리 얘기 좀 해\n",
      "오늘리 기기 좀\n",
      "언뜻 패턴은 비슷하지만\n",
      "언뜻 하는하만지 만\n",
      "연애 초기 그것관 달라\n",
      "例句:그랬더니...\n",
      "모른 척 해도 이건 더 이상\n",
      "모른 도 도 도 이 이이 이 이 이 이 이 이 이 이.\n",
      "밀고 당기기가 아냐\n",
      "밀고 당기 가 아아\n",
      "미묘한 신경전들이 더는 \n",
      "미묘한은.\n",
      "필요치 않은 사이\n",
      "안 돼요, 안 돼.\n",
      "늘어질 대로 늘어져가는 \n",
      "ㅇㅇㅇㅇ은\n",
      "Running time\n",
      "러닝타임\n",
      "눈칠 살피며 시간만 끌어\n",
      "눈칠 시 시 어어\n",
      "애태우는 저의가 뭐야\n",
      "애태우는 저의 가(家)이다.\n",
      "유통기한은 끝난 지 오래\n",
      "◆한국은 지만래\n",
      "상해도 한참 상했지\n",
      "상해도 한국 상했지\n",
      "혀 끝을 지나기도 전에 벌써 \n",
      "지만나기도에\n",
      "지루해져 버린 내 이름\n",
      "지만 버린 내 이 이 름\n",
      "애인스럽게 불려본 게 언제던가 짠해\n",
      "애인스튜어드 불려본 가 짠해\n",
      "다시 끓기도 푹 식히기도\n",
      "다시도\n",
      "뜻뜨미적지근한 온도\n",
      "『한국도』\n",
      "끝이 보이질 않는 이 눈치 게임\n",
      "끝이 보이질 않는 이 눈치 게임\n",
      "하루도 더 못해 그래 내가 졌어\n",
      "하도 더도 그도 그그래 내가 졌어\n",
      "에라이 비겁한 남자야\n",
      "에라 한스 자자.\n",
      ">> 번역 종료\n"
     ]
    }
   ],
   "source": [
    "import requests\n",
    "\n",
    "def translyric_savefile(trans_list,song_name):\n",
    "    file_name = f'data/{song_name}_trans.txt'\n",
    "    with open(file_name,'w',encoding='utf8') as file:\n",
    "        file.writelines(trans_list)\n",
    "\n",
    "#yesterday.txt 가사 파일의 내용을 읽어서 list에 저장\n",
    "def gettext_savelist(song_name):\n",
    "    file_name = f'data/{song_name}.txt'\n",
    "    lyric_list = []\n",
    "    with open(file_name,'r',encoding='utf8') as file:\n",
    "        contents = file.read()\n",
    "        lyric_list = contents.split('\\n')\n",
    "    return lyric_list\n",
    "    \n",
    "def main(song_name):\n",
    "    client_id = \"MwGmQBQTp6gi0db6RGaT\"\n",
    "    client_secret = \"BgBp7CUdWB\"\n",
    "    \n",
    "    url = \"https://openapi.naver.com/v1/papago/n2mt\"\n",
    "\n",
    "    #request header 값 선언\n",
    "    req_header = {\n",
    "        \"X-Naver-Client-Id\":client_id,\n",
    "        \"X-Naver-Client-Secret\":client_secret\n",
    "    }\n",
    "    #yesterday.txt 가사 파일의 내용을 읽어서 list에 저장\n",
    "    lyric_list = gettext_savelist(song_name)\n",
    "    print(len(lyric_list))\n",
    "    lyric_list = [lyric for lyric in lyric_list if len(lyric) != 0]    \n",
    "    print(len(lyric_list))\n",
    "    \n",
    "    trans_list = []\n",
    "    print('>> 번역시작')\n",
    "    for req_lyric in lyric_list:\n",
    "        print(req_lyric)\n",
    "        #request form data 값 선언\n",
    "        req_data = {\n",
    "            \"source\":\"ko\",\n",
    "            \"target\":\"en\",\n",
    "            \"text\":req_lyric\n",
    "        }\n",
    "        #papago 서비스 요청, post() 함수 호출\n",
    "        res = requests.post(url, data=req_data, headers=req_header)\n",
    "        \n",
    "        try:\n",
    "            trans_lyric = res.json()['message']['result']['translatedText']\n",
    "        except Exception as exp:\n",
    "            print(res.status_code)\n",
    "        else:\n",
    "            print(trans_lyric)\n",
    "        \n",
    "        trans_list.append(req_lyric+'\\n')\n",
    "        trans_list.append(trans_lyric+'\\n')\n",
    "        \n",
    "    translyric_savefile(trans_list,song_name)\n",
    "    print('>> 번역 종료')\n",
    "    \n",
    "main(\"을의연애\")"
   ]
  },
  {
   "cell_type": "code",
   "execution_count": null,
   "metadata": {},
   "outputs": [],
   "source": []
  }
 ],
 "metadata": {
  "kernelspec": {
   "display_name": "Python 3",
   "language": "python",
   "name": "python3"
  },
  "language_info": {
   "codemirror_mode": {
    "name": "ipython",
    "version": 3
   },
   "file_extension": ".py",
   "mimetype": "text/x-python",
   "name": "python",
   "nbconvert_exporter": "python",
   "pygments_lexer": "ipython3",
   "version": "3.8.3"
  }
 },
 "nbformat": 4,
 "nbformat_minor": 4
}
